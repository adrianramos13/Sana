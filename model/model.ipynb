{
 "cells": [
  {
   "cell_type": "markdown",
   "id": "bb4bfb2a",
   "metadata": {},
   "source": [
    "IMPORTAMOS EL MODELO"
   ]
  },
  {
   "cell_type": "code",
   "execution_count": 6,
   "id": "b9e1d697",
   "metadata": {},
   "outputs": [],
   "source": [
    "from transformers import LayoutLMForQuestionAnswering, AutoTokenizer"
   ]
  },
  {
   "cell_type": "code",
   "execution_count": 7,
   "id": "bab32d81",
   "metadata": {},
   "outputs": [],
   "source": [
    "model_name = \"impira/layoutlm-document-qa\"\n",
    "\n",
    "tokenizer = AutoTokenizer.from_pretrained(model_name)\n",
    "\n",
    "base_model = LayoutLMForQuestionAnswering.from_pretrained(model_name)"
   ]
  },
  {
   "cell_type": "markdown",
   "id": "8a65c826",
   "metadata": {},
   "source": [
    "FINETUNNING"
   ]
  },
  {
   "cell_type": "code",
   "execution_count": null,
   "id": "2b3fe11e",
   "metadata": {},
   "outputs": [],
   "source": []
  },
  {
   "cell_type": "markdown",
   "id": "7522501b",
   "metadata": {},
   "source": [
    "HIPERPARÁMETROS LORA"
   ]
  }
 ],
 "metadata": {
  "kernelspec": {
   "display_name": "Python 3",
   "language": "python",
   "name": "python3"
  },
  "language_info": {
   "codemirror_mode": {
    "name": "ipython",
    "version": 3
   },
   "file_extension": ".py",
   "mimetype": "text/x-python",
   "name": "python",
   "nbconvert_exporter": "python",
   "pygments_lexer": "ipython3",
   "version": "3.10.0"
  }
 },
 "nbformat": 4,
 "nbformat_minor": 5
}
